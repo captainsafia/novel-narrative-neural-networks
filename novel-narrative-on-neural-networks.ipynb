{
 "metadata": {
  "language_info": {
   "file_extension": ".py",
   "pygments_lexer": "ipython3",
   "name": "python",
   "codemirror_mode": {
    "version": 3,
    "name": "ipython"
   },
   "version": "3.5.1",
   "mimetype": "text/x-python",
   "nbconvert_exporter": "python"
  }
 },
 "cells": [
  {
   "cell_type": "markdown",
   "metadata": {},
   "source": [
    "# A Novel Narrative on Neural Networks\n",
    "\n",
    "Neural networks sound a little bit intimidating. Heck no! In this interactive notebook, we are going to apply a neural network to a simple character recognition problem. Specifically, we'll be using the very popular MNIST handwritten digits dataset which provides us with 60,000 samples to train our model with and 100,000 examples to test our model with. Lots of people have trained different kinds of models with this data set and you can see how these different techniques have played out on [this webpage](http://yann.lecun.com/exdb/mnist/).\n",
    "\n",
    "What tools will we be using in this tutorial? Check out the list below!\n",
    "* scikit-nerualnetwork\n",
    "* pandas\n",
    "* Python 3\n"
   ]
  },
  {
   "cell_type": "markdown",
   "metadata": {},
   "source": [
    "### Importing Required Libraries and Loading Data Set"
   ]
  },
  {
   "cell_type": "code",
   "execution_count": 3,
   "metadata": {
    "collapsed": false
   },
   "outputs": [],
   "source": [
    "import pandas as pd\n",
    "from sknn.mlp import Classifier, Layer"
   ]
  }
 ],
 "nbformat": 4,
 "nbformat_minor": 0
}