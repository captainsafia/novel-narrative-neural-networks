{
 "cells": [
  {
   "cell_type": "markdown",
   "metadata": {},
   "source": [
    "# A Novel Narrative on Neural Networks\n",
    "\n",
    "Neural networks sound a little bit intimidating. Heck no! In this interactive notebook, we are going to apply a neural network to a simple character recognition problem. Specifically, we'll be using the very popular MNIST handwritten digits dataset which provides us with 60,000 samples to train our model with and 100,000 examples to test our model with. Lots of people have trained different kinds of models with this data set and you can see how these different techniques have played out on [this webpage](http://yann.lecun.com/exdb/mnist/).\n",
    "\n",
    "What tools will we be using in this tutorial? Check out the list below!\n",
    "* scikit-nerualnetwork\n",
    "* pandas\n",
    "* Python 3\n"
   ]
  },
  {
   "cell_type": "markdown",
   "metadata": {},
   "source": [
    "### Importing Required Libraries and Loading Data Set"
   ]
  },
  {
   "cell_type": "code",
   "execution_count": null,
   "metadata": {
    "collapsed": false
   },
   "outputs": [],
   "source": [
    "import pandas as pd\n",
    "from sknn.mlp import Classifier, Layer\n",
    "from sklearn.cross_validation import cross_val_score"
   ]
  },
  {
   "cell_type": "markdown",
   "metadata": {},
   "source": [
    "The data file that we will be using to train our neural network is located in `data/training.csv`. The data contains multiple columns. The first specifies the label or class of the row, that is what number the pixels draw represent. The remaining columns represent the intensity value from 0 to 255 at a certain row and column in the image. Specifically, the columns can be labeled as pixel-00, pixel-01, pixel-02 where the first number is the row and the second number is the column. Now the CSV we've fetched does not contain a header for the columns so we are going to create one below."
   ]
  },
  {
   "cell_type": "code",
   "execution_count": null,
   "metadata": {
    "collapsed": false
   },
   "outputs": [],
   "source": [
    "headers = ['class']\n",
    "headers.extend(['pixel-' + str(i) + str(j) for i in range(28) for j in range(28)])"
   ]
  },
  {
   "cell_type": "markdown",
   "metadata": {},
   "source": [
    "Next, we are going to use the `pandas` data analysis library to read in the CSV, let `pandas` know that the CSV contains no header, and specify that we would like to use our own header, specifically the one we made above."
   ]
  },
  {
   "cell_type": "code",
   "execution_count": null,
   "metadata": {
    "collapsed": false
   },
   "outputs": [],
   "source": [
    "training = pd.read_csv(\"data/training.csv\", header = None, names = headers)"
   ]
  },
  {
   "cell_type": "code",
   "execution_count": null,
   "metadata": {
    "collapsed": false
   },
   "outputs": [],
   "source": [
    "training.dtypes"
   ]
  },
  {
   "cell_type": "markdown",
   "metadata": {},
   "source": [
    "Next wea re going to insantiate a Classifier neural network that maps outputs that are discrete values. Our neural network will have a single hidden lawyer that uses the sigmoid activation functions that we discussed earlier. The learning rate will be set 0.02, this specifies how quickly the neural network will transition through the gradient of mean eerror changes, and the neural network will run for 2 epochs."
   ]
  },
  {
   "cell_type": "code",
   "execution_count": null,
   "metadata": {
    "collapsed": false
   },
   "outputs": [],
   "source": [
    "layers = [Layer(\"Sigmoid\", units = 50), Layer(\"Softmax\")]\n",
    "nn = Classifier(layers = layers, learning_rate = 0.02, n_iter = 2)"
   ]
  },
  {
   "cell_type": "markdown",
   "metadata": {},
   "source": [
    "Next we are going to extract the inputs, refered to as X by convention here, and the outputs from our training data set, referred to as y by convention here, using `pandas` data slicing operators."
   ]
  },
  {
   "cell_type": "code",
   "execution_count": null,
   "metadata": {
    "collapsed": false
   },
   "outputs": [],
   "source": [
    "X_train = training.ix[:, 1:]\n",
    "y_train = training.ix[:, 0]"
   ]
  },
  {
   "cell_type": "markdown",
   "metadata": {},
   "source": [
    "Now, neural networks work best with values that are scaled from 0 to 1. We'll use the preprocessing functionality available in scikit learn to do this."
   ]
  },
  {
   "cell_type": "code",
   "execution_count": null,
   "metadata": {
    "collapsed": false
   },
   "outputs": [],
   "source": [
    "from sklearn.preprocessing import MinMaxScaler\n",
    "scaler = MinMaxScaler()\n",
    "X_train = pd.DataFrame(scaler.fit_transform(X_train), columns=X_train.columns)"
   ]
  },
  {
   "cell_type": "markdown",
   "metadata": {},
   "source": [
    "Next, we are going to train the neural network on the data above."
   ]
  },
  {
   "cell_type": "code",
   "execution_count": null,
   "metadata": {
    "collapsed": false
   },
   "outputs": [],
   "source": [
    "nn.fit(X_train, y_train)"
   ]
  },
  {
   "cell_type": "markdown",
   "metadata": {},
   "source": [
    "Wow! That took a while. Let's use the `%%time` magic function to calculate exactly how long it took to run."
   ]
  },
  {
   "cell_type": "code",
   "execution_count": null,
   "metadata": {
    "collapsed": false
   },
   "outputs": [],
   "source": [
    "%%time\n",
    "nn.fit(X_train, y_train)"
   ]
  },
  {
   "cell_type": "markdown",
   "metadata": {},
   "source": [
    "Now, let's extract the parameters for our neural network. Specifically, this will return to us the weights that were assigned to each edge in our neural network."
   ]
  },
  {
   "cell_type": "code",
   "execution_count": null,
   "metadata": {
    "collapsed": false
   },
   "outputs": [],
   "source": [
    "nn.get_parameters()"
   ]
  }
 ],
 "metadata": {
  "kernelspec": {
   "display_name": "Python 3",
   "language": "python",
   "name": "python3"
  },
  "language_info": {
   "codemirror_mode": {
    "name": "ipython",
    "version": 3
   },
   "file_extension": ".py",
   "mimetype": "text/x-python",
   "name": "python",
   "nbconvert_exporter": "python",
   "pygments_lexer": "ipython3",
   "version": "3.5.1"
  }
 },
 "nbformat": 4,
 "nbformat_minor": 1
}
